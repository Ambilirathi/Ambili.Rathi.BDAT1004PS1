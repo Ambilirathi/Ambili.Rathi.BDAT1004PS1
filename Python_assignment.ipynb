{
 "cells": [
  {
   "cell_type": "code",
   "execution_count": 4,
   "id": "642c2a5d",
   "metadata": {},
   "outputs": [
    {
     "name": "stdout",
     "output_type": "stream",
     "text": [
      "Enter the string: enter\n",
      "enterway\n"
     ]
    }
   ],
   "source": [
    "#question 6\n",
    "\n",
    "def pig(s):\n",
    "    Vowels = ['A','E','I','O','U','a','e','i','o','u'];\n",
    "    first_character = s[0];\n",
    "    if (first_character in  Vowels):\n",
    "         St = s + \"way\"\n",
    "    else:\n",
    "         St = s[1:] + first_character + \"ay\" \n",
    "    return St\n",
    "\n",
    "#calling fn\n",
    "Input_String = input(\"Enter the string: \")\n",
    "string = pig(Input_String);\n",
    "print(string.lower());\n",
    "\n",
    "\n",
    "\n",
    "   \n",
    "\n",
    "\n"
   ]
  },
  {
   "cell_type": "code",
   "execution_count": 2,
   "id": "d4073247",
   "metadata": {},
   "outputs": [
    {
     "name": "stdout",
     "output_type": "stream",
     "text": [
      "There are 15 patients of blood type A\n",
      "There are 1 patients of blood type B\n",
      "There are 13 patients of blood type AB\n",
      "There are 15 patients of blood type O\n",
      "There are 0 patients of blood type OO\n"
     ]
    }
   ],
   "source": [
    "#Question 7\n",
    "\n",
    "def bldcount(blood_file):\n",
    "#     Initializing\n",
    "    count_A = count_B = count_O = count_AB = count_OO = 0\n",
    "#     Reading bloodtype\n",
    "    Indiv_blood = blood_file.readline()\n",
    "    count = Indiv_blood.split()\n",
    "    \n",
    "    for blood_type in count:\n",
    "        if blood_type == 'A':\n",
    "            count_A += 1\n",
    "        elif blood_type == 'B':\n",
    "            count_B += 1\n",
    "        elif blood_type == 'AB':\n",
    "            count_AB += 1\n",
    "        elif blood_type == 'O':\n",
    "            count_O += 1\n",
    "        elif blood_type == 'OO':\n",
    "            count_OO += 1\n",
    "            \n",
    "    print(f'There are {count_A} patients of blood type A');\n",
    "    print(f'There are {count_B} patients of blood type B');\n",
    "    print(f'There are {count_AB} patients of blood type AB');\n",
    "    print(f'There are {count_O} patients of blood type O');\n",
    "    print(f'There are {count_OO} patients of blood type OO');\n",
    "\n",
    "# Fn calling\n",
    "blood_file = open(\"Bloodtype.txt\")\n",
    "bldcount(blood_file)"
   ]
  },
  {
   "cell_type": "code",
   "execution_count": null,
   "id": "1a77f01c",
   "metadata": {},
   "outputs": [],
   "source": [
    "#Question 8\n",
    "\n",
    "\n",
    "# Function Defined\n",
    "def currency_convert(Currency,Amount_val,convert_file):\n",
    "    Final_currency_val = 0\n",
    "    Up_Cur = Currency.upper()                                      #Converting to uppercase if needed\n",
    "    for f in convert_file:\n",
    "        Fetch_currency = str(f[:3]) \n",
    "        if Fetch_currency == Up_Cur :                              #checking the currency\n",
    "            Amount = float(f[4:13])\n",
    "            Final_currency_val = Amount * Amount_val\n",
    "         \n",
    "    return  Final_currency_val\n",
    "\n",
    "\n",
    "#Initializing\n",
    "Currency = input(\"Enter the currency: \")\n",
    "\n",
    "Amount_val = int(input(\"Enter the amount: \"))\n",
    "\n",
    "# Reading currencies.txt\n",
    "Currency_File = open(\"currencies.txt\")\n",
    "convert_file = Currency_File.readlines()\n",
    "\n",
    "#function calling\n",
    "US_dollars = currency_convert(Currency,Amount_val,convert_file)\n",
    "\n",
    "# Displaying to US dollars\n",
    "if(US_dollars == 0) :\n",
    "    print(\"Invalid\")\n",
    "else:\n",
    "    print('US dollars : ', US_dollars)\n",
    "\n",
    "\n",
    "\n",
    "\n"
   ]
  },
  {
   "cell_type": "markdown",
   "id": "8bb31f56",
   "metadata": {},
   "source": [
    "#Question 9\n",
    "\n",
    "a) Trying to add incompatible variables, as in adding 6 + ‘a’\n",
    "\n",
    "     Answer :  TypeError\n",
    "\n",
    "b) Referring to the 12th item of a list that has only 10 \n",
    "\n",
    "     Answer : Syntax Error\n",
    "\n",
    "c) Using a value that is out of range for a function’s input, such as calling math.sqrt(-1.0)\n",
    "\n",
    "     Answer : ValueError\n",
    "\n",
    "d) Using an undeclared variable, such as print(x) when x has not been defined \n",
    "\n",
    "     Answer : erroneous\n",
    "\n",
    "e) Trying to open a file that does not exist, such as mistyping the file name or looking in the wrong directory.\n",
    "\n",
    "     Answer : IO Error"
   ]
  },
  {
   "cell_type": "code",
   "execution_count": 6,
   "id": "e6e4ec78",
   "metadata": {},
   "outputs": [
    {
     "name": "stdout",
     "output_type": "stream",
     "text": [
      "Enter the string: appl\n",
      "[1, 2, 1]\n"
     ]
    }
   ],
   "source": [
    "#Question 10\n",
    "import numpy as np\n",
    "\n",
    "def frequencies(Inp_string):\n",
    "    count_dict  = {i: Inp_string.count(i) for i in Inp_string}\n",
    "    Count  = list(count_dict.values())   \n",
    "    \n",
    "    return Count\n",
    "    \n",
    "\n",
    "\n",
    "Inp_string = input(\"Enter the string: \")\n",
    "Count_list = frequencies(Inp_string)\n",
    "print(Count_list)"
   ]
  },
  {
   "cell_type": "code",
   "execution_count": null,
   "id": "a07ef2de",
   "metadata": {},
   "outputs": [],
   "source": [
    "#     freq_dict = {s: strg.count(s) for s in strg}\n",
    "#     freq_list = list(freq_dict.values())"
   ]
  }
 ],
 "metadata": {
  "kernelspec": {
   "display_name": "Python 3 (ipykernel)",
   "language": "python",
   "name": "python3"
  },
  "language_info": {
   "codemirror_mode": {
    "name": "ipython",
    "version": 3
   },
   "file_extension": ".py",
   "mimetype": "text/x-python",
   "name": "python",
   "nbconvert_exporter": "python",
   "pygments_lexer": "ipython3",
   "version": "3.9.13"
  }
 },
 "nbformat": 4,
 "nbformat_minor": 5
}
